{
  "cells": [
    {
      "cell_type": "markdown",
      "metadata": {
        "id": "ya8nqyNONyy6"
      },
      "source": [
        "# Source Code"
      ]
    },
    {
      "cell_type": "markdown",
      "metadata": {
        "id": "hEPlj1t8Nuom"
      },
      "source": [
        "## 0. Overview"
      ]
    },
    {
      "cell_type": "markdown",
      "metadata": {
        "id": "4cHAIfY8N6nt"
      },
      "source": [
        "This source code provides a detailed pipeline of gathering data from Reddit and the stock market, cleaning it, performing sentiment analysis, and graphing the results.\n",
        "\n",
        "Please run the following cell, as most future code blocks utilize the libraries included below:"
      ]
    },
    {
      "cell_type": "code",
      "execution_count": 1,
      "metadata": {
        "id": "IWVsukxqOLsr"
      },
      "outputs": [],
      "source": [
        "import numpy as np\n",
        "import pandas as pd\n",
        "import matplotlib.pyplot as plt\n",
        "from tqdm import tqdm\n",
        "from datetime import datetime"
      ]
    },
    {
      "cell_type": "markdown",
      "metadata": {
        "id": "EkYEqIbM-nRR"
      },
      "source": [
        "## 1.1. Data Gathering - Reddit"
      ]
    },
    {
      "cell_type": "markdown",
      "metadata": {
        "id": "DugARzzc-phd"
      },
      "source": [
        "This section of code is used to gather reddit data. PMAW is used, and can be found at [https://github.com/mattpodolak/pmaw ](https://github.com/mattpodolak/pmaw ).\n",
        "\n",
        "**NOTE:** If gathering data, this should be run as a local jupyter notebook instead of on Google Colab, since the file size will be too large."
      ]
    },
    {
      "cell_type": "code",
      "execution_count": 2,
      "metadata": {
        "colab": {
          "base_uri": "https://localhost:8080/"
        },
        "id": "otPpdkpS_XSn",
        "outputId": "a9fcab84-fcf4-47d4-e83c-d53dbe517b02"
      },
      "outputs": [
        {
          "name": "stdout",
          "output_type": "stream",
          "text": [
            "Requirement already satisfied: pmaw in /Users/keeks/opt/anaconda3/lib/python3.8/site-packages (2.1.1)\n",
            "Requirement already satisfied: requests in /Users/keeks/opt/anaconda3/lib/python3.8/site-packages (from pmaw) (2.26.0)\n",
            "Requirement already satisfied: praw in /Users/keeks/opt/anaconda3/lib/python3.8/site-packages (from pmaw) (7.5.0)\n",
            "Requirement already satisfied: prawcore<3,>=2.1 in /Users/keeks/opt/anaconda3/lib/python3.8/site-packages (from praw->pmaw) (2.3.0)\n",
            "Requirement already satisfied: websocket-client>=0.54.0 in /Users/keeks/opt/anaconda3/lib/python3.8/site-packages (from praw->pmaw) (1.2.3)\n",
            "Requirement already satisfied: update-checker>=0.18 in /Users/keeks/opt/anaconda3/lib/python3.8/site-packages (from praw->pmaw) (0.18.0)\n",
            "Requirement already satisfied: certifi>=2017.4.17 in /Users/keeks/opt/anaconda3/lib/python3.8/site-packages (from requests->pmaw) (2021.10.8)\n",
            "Requirement already satisfied: urllib3<1.27,>=1.21.1 in /Users/keeks/opt/anaconda3/lib/python3.8/site-packages (from requests->pmaw) (1.26.7)\n",
            "Requirement already satisfied: idna<4,>=2.5 in /Users/keeks/opt/anaconda3/lib/python3.8/site-packages (from requests->pmaw) (3.3)\n",
            "Requirement already satisfied: charset-normalizer~=2.0.0 in /Users/keeks/opt/anaconda3/lib/python3.8/site-packages (from requests->pmaw) (2.0.4)\n"
          ]
        }
      ],
      "source": [
        "!pip install pmaw"
      ]
    },
    {
      "cell_type": "code",
      "execution_count": 3,
      "metadata": {
        "id": "n_hCZDZK_dnq"
      },
      "outputs": [],
      "source": [
        "from pmaw import PushshiftAPI"
      ]
    },
    {
      "cell_type": "code",
      "execution_count": 4,
      "metadata": {
        "id": "v0Mo9CNExv2k"
      },
      "outputs": [],
      "source": [
        "def getRedditData(subreddit, output_file, is_posts, content_limit=100000):\n",
        "  '''\n",
        "  A function to get content (either posts or comments) \n",
        "  from a subreddit and save it to a csv file\n",
        "  '''\n",
        "  api = PushshiftAPI()\n",
        "  # get posts\n",
        "  if is_posts is True:\n",
        "    content = api.search_submissions(subreddit=subreddit, limit=content_limit)\n",
        "  # get comments\n",
        "  else:\n",
        "    content = api.search_comments(subreddit=subreddit, limit=content_limit)\n",
        "  # save content to dataframe\n",
        "  content_df = pd.DataFrame(content)\n",
        "  # write output csv\n",
        "  content_df.to_csv(output_file, header=True, index=False, columns=list(content_df.axes[1]))\n",
        "\n",
        "  return content_df"
      ]
    },
    {
      "cell_type": "markdown",
      "metadata": {
        "id": "QM9nmckcD8Rr"
      },
      "source": [
        "## 1.2. Data Gathering - Finance"
      ]
    },
    {
      "cell_type": "markdown",
      "metadata": {
        "id": "5vk6VU2fEEEx"
      },
      "source": [
        "This section of code is used to gather stock price data. For this, yfinance is used, info for which can be found at [https://pypi.org/project/yfinance/](https://pypi.org/project/yfinance/).\n",
        "\n",
        "**NOTE:** If gathering data, this should be run as a local jupyter notebook instead of on Google Colab, since the file size will be too large."
      ]
    },
    {
      "cell_type": "code",
      "execution_count": 5,
      "metadata": {
        "colab": {
          "base_uri": "https://localhost:8080/"
        },
        "id": "p-_6CAfBGk8U",
        "outputId": "8b9930ed-a75c-4335-bf92-def4fc350d64"
      },
      "outputs": [
        {
          "name": "stdout",
          "output_type": "stream",
          "text": [
            "Requirement already satisfied: yfinance in /Users/keeks/opt/anaconda3/lib/python3.8/site-packages (0.1.67)\n",
            "Requirement already satisfied: multitasking>=0.0.7 in /Users/keeks/opt/anaconda3/lib/python3.8/site-packages (from yfinance) (0.0.10)\n",
            "Requirement already satisfied: requests>=2.20 in /Users/keeks/opt/anaconda3/lib/python3.8/site-packages (from yfinance) (2.26.0)\n",
            "Requirement already satisfied: lxml>=4.5.1 in /Users/keeks/opt/anaconda3/lib/python3.8/site-packages (from yfinance) (4.6.3)\n",
            "Requirement already satisfied: pandas>=0.24 in /Users/keeks/opt/anaconda3/lib/python3.8/site-packages (from yfinance) (1.1.3)\n",
            "Requirement already satisfied: numpy>=1.15 in /Users/keeks/opt/anaconda3/lib/python3.8/site-packages (from yfinance) (1.20.3)\n",
            "Requirement already satisfied: pytz>=2017.2 in /Users/keeks/opt/anaconda3/lib/python3.8/site-packages (from pandas>=0.24->yfinance) (2021.3)\n",
            "Requirement already satisfied: python-dateutil>=2.7.3 in /Users/keeks/opt/anaconda3/lib/python3.8/site-packages (from pandas>=0.24->yfinance) (2.8.2)\n",
            "Requirement already satisfied: six>=1.5 in /Users/keeks/opt/anaconda3/lib/python3.8/site-packages (from python-dateutil>=2.7.3->pandas>=0.24->yfinance) (1.15.0)\n",
            "Requirement already satisfied: idna<4,>=2.5 in /Users/keeks/opt/anaconda3/lib/python3.8/site-packages (from requests>=2.20->yfinance) (3.3)\n",
            "Requirement already satisfied: charset-normalizer~=2.0.0 in /Users/keeks/opt/anaconda3/lib/python3.8/site-packages (from requests>=2.20->yfinance) (2.0.4)\n",
            "Requirement already satisfied: certifi>=2017.4.17 in /Users/keeks/opt/anaconda3/lib/python3.8/site-packages (from requests>=2.20->yfinance) (2021.10.8)\n",
            "Requirement already satisfied: urllib3<1.27,>=1.21.1 in /Users/keeks/opt/anaconda3/lib/python3.8/site-packages (from requests>=2.20->yfinance) (1.26.7)\n"
          ]
        }
      ],
      "source": [
        "!pip install yfinance"
      ]
    },
    {
      "cell_type": "code",
      "execution_count": 6,
      "metadata": {
        "id": "Dq-5qCEpGl-b"
      },
      "outputs": [],
      "source": [
        "import yfinance as yf"
      ]
    },
    {
      "cell_type": "code",
      "execution_count": 7,
      "metadata": {
        "id": "aTn4_tLr0-UQ"
      },
      "outputs": [],
      "source": [
        "def getFinanceData(stock_name, output_file, start_date, end_date):\n",
        "  # get stock prices\n",
        "  msft = yf.Ticker(stock_name)\n",
        "  hist = msft.history(period=\"max\")\n",
        "  data = yf.download(stock_name, start=start_date, end=end_date)\n",
        "  # fix date as a column\n",
        "  data.insert(0, 'Date', data.index)\n",
        "  data.reset_index(drop=True, inplace=True)\n",
        "  data['Date'] = data['Date'].astype(str)\n",
        "  # write output csv\n",
        "  data.to_csv(output_file, header=True, index=False, columns=list(data.axes[1]))\n",
        "  return data"
      ]
    },
    {
      "cell_type": "markdown",
      "metadata": {
        "id": "tv3jHh_o-d-9"
      },
      "source": [
        "## 2. Data Cleaning"
      ]
    },
    {
      "cell_type": "markdown",
      "metadata": {
        "id": "ETufXMgR-gzI"
      },
      "source": [
        "After getting the data, this section of code cleans the data and reduces it to only the usable (graphable) values."
      ]
    },
    {
      "cell_type": "code",
      "execution_count": 8,
      "metadata": {
        "id": "Sb0ttIsNVMdE"
      },
      "outputs": [],
      "source": [
        "def cleanTimestamps(df):\n",
        "\n",
        "  # remove posts with invalid timestamps\n",
        "  df = df.dropna(subset=['created_utc'])\n",
        "  null_df = df.created_utc.isnull()\n",
        "  df = df[null_df == False]\n",
        "  df = df[df.created_utc != \"[deleted]\"]\n",
        "  df = df[df.created_utc != \"[removed]\"]\n",
        "\n",
        "  # remove incorrectly formatted timestamps\n",
        "  rows_to_keep = []\n",
        "  with tqdm(total=len(df)) as pbar:\n",
        "    for i in range(len(df)):\n",
        "      rows_to_keep.append(not isinstance(df.iloc[i].created_utc, str))\n",
        "      pbar.update(1)\n",
        "  df = df[rows_to_keep]\n",
        "\n",
        "  # create formatted timestamps\n",
        "  sub_dates = []\n",
        "  for time in df['created_utc']:\n",
        "    fts = datetime.utcfromtimestamp(time).strftime('%Y-%m-%d')\n",
        "    sub_dates.append(fts)\n",
        "\n",
        "  # append new timestamps\n",
        "  df['Date'] = sub_dates\n",
        "  df = df.sort_values(by=['Date'])\n",
        "\n",
        "  return df"
      ]
    },
    {
      "cell_type": "code",
      "execution_count": 9,
      "metadata": {
        "id": "_eI_3sf0xPDx"
      },
      "outputs": [],
      "source": [
        "def cleanRedditPosts(input_file, output_file, input_df=None):\n",
        "\n",
        "  # get input data\n",
        "  if input_df.empty:\n",
        "    posts_df = pd.read_csv(input_file)\n",
        "  else:\n",
        "    posts_df = input_df.copy()\n",
        "\n",
        "  # remove invalid posts\n",
        "  null_posts_df = posts_df.selftext.isnull()\n",
        "  posts_df = posts_df[null_posts_df == False]\n",
        "  posts_df = posts_df[posts_df.selftext != \"[deleted]\"]\n",
        "  posts_df = posts_df[posts_df.selftext != \"[removed]\"]\n",
        "\n",
        "  # remove posts whose content is too long\n",
        "  posts_df = posts_df[posts_df.selftext.apply(lambda x: len(str(x)) < 512)]\n",
        "\n",
        "  # clean timestamps\n",
        "  posts_df = cleanTimestamps(posts_df)\n",
        "\n",
        "  # write output csv\n",
        "  posts_df.to_csv(output_file, header=True, index=False, columns=list(posts_df.axes[1]))\n",
        "\n",
        "  return posts_df"
      ]
    },
    {
      "cell_type": "code",
      "execution_count": 10,
      "metadata": {
        "id": "3P2gp_4hSJVU"
      },
      "outputs": [],
      "source": [
        "def cleanRedditComments(input_file, output_file, input_df=None):\n",
        "\n",
        "  # get input data\n",
        "  if input_df.empty:\n",
        "    comments_df = pd.read_csv(input_file)\n",
        "  else:\n",
        "    comments_df = input_df.copy()\n",
        "\n",
        "  # remove invalid posts\n",
        "  null_comments_df = comments_df.body.isnull()\n",
        "  comments_df = comments_df[null_comments_df == False]\n",
        "  comments_df = comments_df[comments_df.body != \"[deleted]\"]\n",
        "  comments_df = comments_df[comments_df.body != \"[removed]\"]\n",
        "\n",
        "  # remove posts whose content is too long\n",
        "  comments_df = comments_df[comments_df.body.apply(lambda x: len(str(x)) < 512)]\n",
        "\n",
        "  # clean timestamps\n",
        "  comments_df = cleanTimestamps(comments_df)\n",
        "\n",
        "  # write data to csv\n",
        "  comments_df.to_csv(output_file, header=True, index=False, columns=list(comments_df.axes[1]))\n",
        "\n",
        "  return comments_df"
      ]
    },
    {
      "cell_type": "markdown",
      "metadata": {
        "id": "RQ4QqgOtD-b8"
      },
      "source": [
        "## 3. Sentiment Analysis"
      ]
    },
    {
      "cell_type": "markdown",
      "metadata": {
        "id": "s14QkAjx2l_4"
      },
      "source": [
        "This section of code is used to perform sentiment analysis on the reddit content."
      ]
    },
    {
      "cell_type": "code",
      "execution_count": 11,
      "metadata": {
        "colab": {
          "base_uri": "https://localhost:8080/"
        },
        "id": "eV4Hlde3hMzj",
        "outputId": "80186f39-e1b2-4a85-ec92-5ae2dd631e56"
      },
      "outputs": [
        {
          "name": "stdout",
          "output_type": "stream",
          "text": [
            "Requirement already satisfied: torch in /Users/keeks/opt/anaconda3/lib/python3.8/site-packages (1.10.0)\n",
            "Requirement already satisfied: typing-extensions in /Users/keeks/opt/anaconda3/lib/python3.8/site-packages (from torch) (3.10.0.2)\n"
          ]
        }
      ],
      "source": [
        "# !pip install torch==1.8.1+cu111 torchvision==0.9.1+cu111 torchaudio===0.8.1 -f https://download.pytorch.org/whl/torch_stable.html\n",
        "!pip install torch"
      ]
    },
    {
      "cell_type": "code",
      "execution_count": 12,
      "metadata": {
        "colab": {
          "base_uri": "https://localhost:8080/"
        },
        "id": "8tLtrjGrhNjQ",
        "outputId": "26baef7e-f080-4be6-faa8-fb4d097880b0"
      },
      "outputs": [
        {
          "name": "stdout",
          "output_type": "stream",
          "text": [
            "Requirement already satisfied: transformers in /Users/keeks/opt/anaconda3/lib/python3.8/site-packages (4.12.5)\n",
            "Requirement already satisfied: requests in /Users/keeks/opt/anaconda3/lib/python3.8/site-packages (2.26.0)\n",
            "Requirement already satisfied: beautifulsoup4 in /Users/keeks/opt/anaconda3/lib/python3.8/site-packages (4.10.0)\n",
            "Requirement already satisfied: pandas in /Users/keeks/opt/anaconda3/lib/python3.8/site-packages (1.1.3)\n",
            "Requirement already satisfied: numpy in /Users/keeks/opt/anaconda3/lib/python3.8/site-packages (1.20.3)\n",
            "Requirement already satisfied: pyyaml>=5.1 in /Users/keeks/opt/anaconda3/lib/python3.8/site-packages (from transformers) (6.0)\n",
            "Requirement already satisfied: filelock in /Users/keeks/opt/anaconda3/lib/python3.8/site-packages (from transformers) (3.4.0)\n",
            "Requirement already satisfied: tqdm>=4.27 in /Users/keeks/opt/anaconda3/lib/python3.8/site-packages (from transformers) (4.62.3)\n",
            "Requirement already satisfied: regex!=2019.12.17 in /Users/keeks/opt/anaconda3/lib/python3.8/site-packages (from transformers) (2021.8.3)\n",
            "Requirement already satisfied: tokenizers<0.11,>=0.10.1 in /Users/keeks/opt/anaconda3/lib/python3.8/site-packages (from transformers) (0.10.3)\n",
            "Requirement already satisfied: sacremoses in /Users/keeks/opt/anaconda3/lib/python3.8/site-packages (from transformers) (0.0.46)\n",
            "Requirement already satisfied: packaging>=20.0 in /Users/keeks/opt/anaconda3/lib/python3.8/site-packages (from transformers) (21.3)\n",
            "Requirement already satisfied: huggingface-hub<1.0,>=0.1.0 in /Users/keeks/opt/anaconda3/lib/python3.8/site-packages (from transformers) (0.2.1)\n",
            "Requirement already satisfied: certifi>=2017.4.17 in /Users/keeks/opt/anaconda3/lib/python3.8/site-packages (from requests) (2021.10.8)\n",
            "Requirement already satisfied: charset-normalizer~=2.0.0 in /Users/keeks/opt/anaconda3/lib/python3.8/site-packages (from requests) (2.0.4)\n",
            "Requirement already satisfied: idna<4,>=2.5 in /Users/keeks/opt/anaconda3/lib/python3.8/site-packages (from requests) (3.3)\n",
            "Requirement already satisfied: urllib3<1.27,>=1.21.1 in /Users/keeks/opt/anaconda3/lib/python3.8/site-packages (from requests) (1.26.7)\n",
            "Requirement already satisfied: soupsieve>1.2 in /Users/keeks/opt/anaconda3/lib/python3.8/site-packages (from beautifulsoup4) (2.3.1)\n",
            "Requirement already satisfied: pytz>=2017.2 in /Users/keeks/opt/anaconda3/lib/python3.8/site-packages (from pandas) (2021.3)\n",
            "Requirement already satisfied: python-dateutil>=2.7.3 in /Users/keeks/opt/anaconda3/lib/python3.8/site-packages (from pandas) (2.8.2)\n",
            "Requirement already satisfied: typing-extensions>=3.7.4.3 in /Users/keeks/opt/anaconda3/lib/python3.8/site-packages (from huggingface-hub<1.0,>=0.1.0->transformers) (3.10.0.2)\n",
            "Requirement already satisfied: pyparsing!=3.0.5,>=2.0.2 in /Users/keeks/opt/anaconda3/lib/python3.8/site-packages (from packaging>=20.0->transformers) (3.0.4)\n",
            "Requirement already satisfied: six>=1.5 in /Users/keeks/opt/anaconda3/lib/python3.8/site-packages (from python-dateutil>=2.7.3->pandas) (1.15.0)\n",
            "Requirement already satisfied: click in /Users/keeks/opt/anaconda3/lib/python3.8/site-packages (from sacremoses->transformers) (8.0.3)\n",
            "Requirement already satisfied: joblib in /Users/keeks/opt/anaconda3/lib/python3.8/site-packages (from sacremoses->transformers) (1.1.0)\n"
          ]
        }
      ],
      "source": [
        "!pip install transformers requests beautifulsoup4 pandas numpy"
      ]
    },
    {
      "cell_type": "code",
      "execution_count": 13,
      "metadata": {
        "id": "UxHEoxWkhaVH"
      },
      "outputs": [],
      "source": [
        "from transformers import AutoTokenizer, AutoModelForSequenceClassification\n",
        "import torch\n",
        "import requests\n",
        "from bs4 import BeautifulSoup\n",
        "import re"
      ]
    },
    {
      "cell_type": "code",
      "execution_count": 14,
      "metadata": {
        "id": "hgM6oVNbha0J"
      },
      "outputs": [],
      "source": [
        "def getSentiment(input_file, output_file, is_posts, input_df=None):\n",
        "\n",
        "  # get input data\n",
        "  if input_df.empty:\n",
        "     df = pd.read_csv(input_file)\n",
        "  else:\n",
        "    df = input_df.copy()\n",
        "\n",
        "  # create new sentiment column\n",
        "  df['Sentiment'] = \"\"\n",
        "\n",
        "  # instantiate model\n",
        "  tokenizer = AutoTokenizer.from_pretrained('nlptown/bert-base-multilingual-uncased-sentiment')\n",
        "  model = AutoModelForSequenceClassification.from_pretrained('nlptown/bert-base-multilingual-uncased-sentiment')\n",
        "\n",
        "  # perform sentiment analysis\n",
        "  with tqdm(total=len(df)) as pbar:\n",
        "    for i in range(len(df)):\n",
        "      tokens = []\n",
        "      # analyze post\n",
        "      if is_posts is True:\n",
        "        tokens = tokenizer.encode(df.iloc[i].selftext, return_tensors='pt')\n",
        "      # analyze comment\n",
        "      else:\n",
        "        tokens = tokenizer.encode(df.iloc[i].body, return_tensors='pt')\n",
        "      result = model(tokens)\n",
        "      # df['Sentiment'].iloc[i] = (int(torch.argmax(result.logits))+1)\n",
        "      df['Sentiment'].iloc[i] = (int(torch.argmax(result.logits))+1)\n",
        "      pbar.update(1)\n",
        "\n",
        "  # write output file\n",
        "  df.to_csv(output_file, header=True, index=False, columns=list(df.axes[1]))\n",
        "\n",
        "  return df"
      ]
    },
    {
      "cell_type": "markdown",
      "metadata": {
        "id": "qIPcrO9sve8l"
      },
      "source": [
        "## 4. Data Selection for Graphing"
      ]
    },
    {
      "cell_type": "markdown",
      "metadata": {
        "id": "szI84phrvnMi"
      },
      "source": [
        "This section of code performs final preparations on the data, getting it ready to be graphed. After data cleaning, the number of data points per day is not consistent between datasets, so this code handles that."
      ]
    },
    {
      "cell_type": "code",
      "execution_count": 15,
      "metadata": {
        "id": "I5CwsN54xGyg"
      },
      "outputs": [],
      "source": [
        "from statistics import mean"
      ]
    },
    {
      "cell_type": "code",
      "execution_count": 16,
      "metadata": {
        "id": "miIVM9UWwKA5"
      },
      "outputs": [],
      "source": [
        "def averageDailySentiment(df):\n",
        "\n",
        "  # iterate over data, counting frequency of dates\n",
        "  sentiment_dict = {}\n",
        "  for i in range(len(df)):\n",
        "    key = df.loc[i,'Date']\n",
        "    value = df.loc[i,'Sentiment']\n",
        "    # add new dates to dict\n",
        "    if key not in sentiment_dict:\n",
        "      sentiment_dict[key] = [value]\n",
        "    # update count of existing dates\n",
        "    else:\n",
        "      sentiment_dict[key].append(value)\n",
        "\n",
        "  dates=[]\n",
        "  sentiments=[]\n",
        "\n",
        "  # create new dataframe with daily average sentiment\n",
        "  for key in sentiment_dict:\n",
        "    value = mean([float(x) for x in sentiment_dict[key]])\n",
        "    value = int(round(value))\n",
        "    dates.append(key)\n",
        "    sentiments.append(value)\n",
        "\n",
        "  df = pd.DataFrame(list(zip(dates, sentiments)), columns=['Date', 'Sentiment'])\n",
        "\n",
        "  return df"
      ]
    },
    {
      "cell_type": "code",
      "execution_count": 43,
      "metadata": {
        "id": "jxFK-AYNy6Zg"
      },
      "outputs": [],
      "source": [
        "def getDateAndSentiment(input_file, output_file, input_df=None):\n",
        "  # get input data\n",
        "  try:\n",
        "    if input_df is None:\n",
        "      raw_df = pd.read_csv(input_file)\n",
        "  except: # ValueError:\n",
        "    if input_df.empty:\n",
        "      raw_df = pd.read_csv(input_file)\n",
        "  finally:\n",
        "    raw_df = input_df.copy()\n",
        "    raw_df.reset_index(drop=True, inplace=True)\n",
        "  # create new df with just dates and sentiment\n",
        "  filtered_df = raw_df[['Date', 'Sentiment']].copy()\n",
        "  # average the daily sentiment\n",
        "  filtered_df = averageDailySentiment(filtered_df)\n",
        "  # write output csv\n",
        "  filtered_df.to_csv(output_file, header=True, index=False, columns=list(filtered_df.axes[1]))\n",
        "  return filtered_df"
      ]
    },
    {
      "cell_type": "code",
      "execution_count": 18,
      "metadata": {
        "id": "VumZk4j17RMb"
      },
      "outputs": [],
      "source": [
        "def getUsableData(sentiment_input_file, finance_input_file, \n",
        "                  sentiment_output_file, finance_output_file, \n",
        "                  sentiment_input_df=None, finance_input_df=None):\n",
        "\n",
        "  # get sentiment input data\n",
        "  if sentiment_input_df.empty:\n",
        "    sentiment_df = pd.read_csv(sentiment_input_file)\n",
        "  else:\n",
        "    sentiment_df = sentiment_input_df.copy()\n",
        "  \n",
        "  # get finance input data\n",
        "  if finance_input_df.empty:\n",
        "    finance_df = pd.read_csv(finance_input_file)\n",
        "  else:\n",
        "    finance_df = finance_input_df.copy()\n",
        "\n",
        "  # get list of dates\n",
        "  sentiment_dates = list(sentiment_df.loc[:,'Date'])\n",
        "  finance_dates = list(finance_df.loc[:,'Date'])\n",
        "\n",
        "  # find date overlaps\n",
        "  usable_dates = []\n",
        "  for i in range(len(sentiment_dates)):\n",
        "    if sentiment_dates[i] in finance_dates:\n",
        "      usable_dates.append(sentiment_dates[i])\n",
        "  \n",
        "  # print(sentiment_dates)\n",
        "  # print()\n",
        "  # print()\n",
        "  # print(finance_dates)\n",
        "\n",
        "  # create graphable sentiment dataframe\n",
        "  sentiment_list = []\n",
        "  for i in range(len(sentiment_df)):\n",
        "    date = sentiment_df.loc[i,'Date']\n",
        "    sentiment = sentiment_df.loc[i,'Sentiment']\n",
        "    if date in usable_dates:\n",
        "      sentiment_list.append((date,sentiment))\n",
        "  graphable_sentiment_df = pd.DataFrame(sentiment_list, columns=['Date','Sentiment'])\n",
        "\n",
        "  # create graphable finance dataframe\n",
        "  finance_list = []\n",
        "  for i in range(len(finance_df)):\n",
        "    date = finance_df.loc[i,'Date']\n",
        "    price = finance_df.loc[i,'Close']\n",
        "    if date in usable_dates:\n",
        "      finance_list.append((date,price))\n",
        "  graphable_finance_df = pd.DataFrame(finance_list, columns=['Date','Price'])\n",
        "\n",
        "  # write output csv\n",
        "  graphable_sentiment_df.to_csv(sentiment_output_file, header=True, index=False, columns=list(graphable_sentiment_df.axes[1]))\n",
        "  graphable_finance_df.to_csv(finance_output_file, header=True, index=False, columns=list(graphable_finance_df.axes[1]))\n",
        "\n",
        "  return graphable_sentiment_df, graphable_finance_df"
      ]
    },
    {
      "cell_type": "markdown",
      "metadata": {
        "id": "mTihe1gR82d_"
      },
      "source": [
        "## 5. ASAP Open Source Data Smoothing"
      ]
    },
    {
      "cell_type": "markdown",
      "metadata": {
        "id": "PlSq3gOX86Ub"
      },
      "source": [
        "This section of code is the open-source code for the ASAP data smoothing API. Slight modifications were made to make it python3-compatible."
      ]
    },
    {
      "cell_type": "code",
      "execution_count": 19,
      "metadata": {
        "collapsed": true,
        "id": "Y87TaDeylGv-"
      },
      "outputs": [],
      "source": [
        "import sys\n",
        "import numpy as np\n",
        "import scipy.stats\n",
        "from matplotlib import pyplot as plt\n",
        "import pandas as pd\n",
        "import json\n",
        "import numpy.fft\n",
        "from decimal import Decimal\n",
        "import math\n",
        "\n",
        "%matplotlib inline"
      ]
    },
    {
      "cell_type": "code",
      "execution_count": 20,
      "metadata": {
        "collapsed": true,
        "id": "zGwjzGtqlGwC"
      },
      "outputs": [],
      "source": [
        "# ASAP Simple (Brute Force)\n",
        "def moving_average(data, _range):\n",
        "    ret = np.cumsum(data, dtype=float)\n",
        "    ret[_range:] = ret[_range:] - ret[:-_range]\n",
        "    return ret[_range - 1:] / _range\n",
        "\n",
        "def SMA(data, _range, slide):\n",
        "    ret = moving_average(data, _range)[::slide]\n",
        "    return list(ret)\n",
        "\n",
        "def kurtosis(values):\n",
        "    return scipy.stats.kurtosis(values)\n",
        "\n",
        "def roughness(vals):\n",
        "    return np.std(np.diff(vals))\n",
        "\n",
        "def smooth_simple(data, max_window=5, resolution=None):\n",
        "    data = np.array(data)\n",
        "    # Preaggregate according to resolution\n",
        "    window_size = 1\n",
        "    slide_size = 1\n",
        "    if resolution:\n",
        "        slide_size = int(len(data) / resolution)\n",
        "        if slide_size > 1:\n",
        "            data = SMA(data, slide_size, slide_size)\n",
        "    orig_kurt   = kurtosis(data)\n",
        "    min_obj     = roughness(data)\n",
        "    max_window = int(max_window) #ADDED LINE\n",
        "    for w in range(2, int(len(data) / max_window + 1)): #ADDED INT CASTING\n",
        "        smoothed = SMA(data, w, 1)\n",
        "        if kurtosis(smoothed) >= orig_kurt:\n",
        "            r = roughness(smoothed)\n",
        "            if r < min_obj:\n",
        "                min_obj = r\n",
        "                window_size = w\n",
        "    return window_size, slide_size"
      ]
    },
    {
      "cell_type": "code",
      "execution_count": 21,
      "metadata": {
        "collapsed": true,
        "id": "bZV-h20YlGwC"
      },
      "outputs": [],
      "source": [
        "# ASAP\n",
        "class Metrics(object):\n",
        "    def __init__(self, values):\n",
        "        self.set_values( values )\n",
        "\n",
        "    def set_values(self, values):\n",
        "        self.values = values\n",
        "        self.r = self.k = None\n",
        "\n",
        "    @property\n",
        "    def kurtosis(self):\n",
        "        if self.k is None:\n",
        "            self.k = scipy.stats.kurtosis(self.values)\n",
        "        return self.k\n",
        "\n",
        "    @property\n",
        "    def roughness(self):\n",
        "        if self.r is None:\n",
        "            self.r = np.std(np.diff(self.values))\n",
        "        return self.r\n",
        "\n",
        "class ACF(Metrics):\n",
        "    CORR_THRESH = 0.2\n",
        "    def __init__(self, values, max_lag=None):\n",
        "        super(ACF, self).__init__(values)\n",
        "        if max_lag is None:\n",
        "            max_lag = len(values) / 5\n",
        "        self.max_lag = int(max_lag)\n",
        "        self.max_acf = 0.0\n",
        "\n",
        "        # Calculate autocorrelation via FFT\n",
        "        # Demean\n",
        "        demeaned = values - np.mean(values)\n",
        "        # Pad data to power of 2 \n",
        "        l = int(2.0 ** (int(math.log(len(demeaned),2.0)) + 1))\n",
        "        padded = np.append(demeaned, ([0.0] * (l - len(demeaned))))    \n",
        "        # FFT and inverse FFT\n",
        "        F_f = numpy.fft.fft( padded )\n",
        "        R_t = numpy.fft.ifft( F_f * np.conjugate(F_f) )\n",
        "        max_lag = int(max_lag) #ADDED LINE\n",
        "        self.correlations = R_t[:max_lag].real / R_t[0].real\n",
        "        \n",
        "        # Find autocorrelation peaks \n",
        "        self.peaks = []\n",
        "        if len(self.correlations) >1 :\n",
        "            positive = self.correlations[1] > self.correlations[0]\n",
        "            max = 1\n",
        "            for i in range(2, len(self.correlations)):\n",
        "                if not positive and self.correlations[i] > self.correlations[i-1]:\n",
        "                    max = i\n",
        "                    positive = not positive\n",
        "                elif positive and self.correlations[i] > self.correlations[max]:\n",
        "                    max = i\n",
        "                elif positive and self.correlations[i] < self.correlations[i-1]:\n",
        "                    if max > 1 and self.correlations[max] > self.CORR_THRESH:\n",
        "                        self.peaks.append(max)\n",
        "                        if self.correlations[max] > self.max_acf:\n",
        "                            self.max_acf = self.correlations[max]\n",
        "                    positive = not positive\n",
        "        # If there is no autocorrelation peak within the MAX_WINDOW boundary,\n",
        "        # try windows from the largest to the smallest \n",
        "        if len(self.peaks) <= 1:\n",
        "            self.peaks = range(2, len(self.correlations))\n",
        "                    \n",
        "def moving_average(data, _range):\n",
        "    ret = np.cumsum(data)\n",
        "    _range = int(_range) #ADDED LINE\n",
        "    ret[_range:] = ret[_range:] - ret[:-_range]\n",
        "    return ret[_range - 1:] / _range\n",
        "\n",
        "def SMA(data, _range, slide):\n",
        "    _range = int(_range) #ADDED LINE\n",
        "    slide = int(slide) #ADDED LINE\n",
        "    ret = moving_average(data, _range)[::slide]\n",
        "    return list(ret)\n",
        "                    \n",
        "def binary_search(head,tail,data,min_obj,orig_kurt,window_size):\n",
        "    while head <= tail:\n",
        "        w = int(round((head + tail) / 2.0))\n",
        "        smoothed = SMA(data,w,1)\n",
        "        metrics  = Metrics(smoothed)\n",
        "        if metrics.kurtosis >= orig_kurt:\n",
        "            if metrics.roughness < min_obj:\n",
        "                window_size = w\n",
        "                min_obj = metrics.roughness\n",
        "            head = w + 1\n",
        "        else:\n",
        "            tail = w - 1\n",
        "    return window_size\n",
        "\n",
        "def smooth_ASAP(data, max_window=5, resolution=None):\n",
        "    data = np.array(data)\n",
        "    # Preaggregate according to resolution\n",
        "    slide_size = 1\n",
        "    window_size = 1\n",
        "    if resolution and len(data) >= 2 * resolution:\n",
        "        slide_size = len(data) / resolution\n",
        "        data = SMA(data, slide_size, slide_size)\n",
        "    acf         = ACF(data, max_lag=len(data) / max_window)\n",
        "    peaks       = acf.peaks\n",
        "    orig_kurt   = acf.kurtosis\n",
        "    min_obj     = acf.roughness\n",
        "    lb          = 1\n",
        "    largest_feasible = -1\n",
        "    tail = len(data) / max_window\n",
        "    for i in range(len(peaks) - 1, -1, -1):\n",
        "        w = peaks[i]\n",
        "\n",
        "        if w < lb or w == 1:\n",
        "            break\n",
        "        elif math.sqrt(1 - acf.correlations[w]) * window_size > math.sqrt(1 - acf.correlations[window_size]) * w:\n",
        "            continue\n",
        "\n",
        "        smoothed = SMA(data, w, 1)\n",
        "        metrics = Metrics(smoothed)\n",
        "        if metrics.roughness < min_obj and metrics.kurtosis >= orig_kurt:\n",
        "            min_obj = metrics.roughness\n",
        "            window_size = w\n",
        "            lb = round( max(w*math.sqrt( (acf.max_acf -1) / (acf.correlations[w]-1) ), lb) )\n",
        "    if largest_feasible > 0:\n",
        "        if largest_feasible < len(peaks) - 2:\n",
        "            tail = peaks[largest_feasible + 1]\n",
        "        lb = max(lb, peaks[largest_feasible] + 1)\n",
        "\n",
        "    window_size = binary_search(lb, tail, data, min_obj, orig_kurt, window_size)\n",
        "    return window_size, slide_size"
      ]
    },
    {
      "cell_type": "code",
      "execution_count": 22,
      "metadata": {
        "collapsed": true,
        "id": "K06qp0LVlGwG"
      },
      "outputs": [],
      "source": [
        "# Read data from CSV\n",
        "def load_csv(fname, input_column=1):\n",
        "    import csv\n",
        "    with open(fname, 'r') as ifh:\n",
        "        icsv = csv.reader(ifh)\n",
        "        if sys.version_info.major == 2:\n",
        "            header = icsv.next()\n",
        "        else:\n",
        "            header = next(icsv)\n",
        "        rows = list(icsv)\n",
        "\n",
        "        try:\n",
        "            data = [ float(x[input_column]) for x in rows ]\n",
        "        except ValueError:\n",
        "            print(\"couldn't convert input-column={0} float\".format(input_column))\n",
        "            if rows:\n",
        "                print(\"first row:\")\n",
        "                for idx,x in enumerate(rows[0]):\n",
        "                    print('  column {:3d}: {}'.format(idx,x))\n",
        "            exit(1)\n",
        "    return data"
      ]
    },
    {
      "cell_type": "code",
      "execution_count": 23,
      "metadata": {
        "collapsed": true,
        "id": "HpcV6bLglGwG"
      },
      "outputs": [],
      "source": [
        "# Plot time series before and after smoothing\n",
        "def plot(data, window_size, slide_size):\n",
        "    plt.clf()\n",
        "    plt.figure()\n",
        "    data = SMA(data, slide_size, slide_size)\n",
        "    method_names = [\"Original\", \"Smoothed\"]\n",
        "    fig, (ax1, ax2) = plt.subplots(2, 1, sharex=True)\n",
        "    smoothed = SMA(data, window_size, 1)\n",
        "    smoothed_range = range(int(window_size/2), int(window_size/2) + len(smoothed))\n",
        "    ax1.set_xlim(0, len(data))\n",
        "    ax1.plot(data, linestyle='-', linewidth=1.5)\n",
        "    ax2.plot(smoothed_range, smoothed, linestyle='-', linewidth=1.5)\n",
        "    axes = [ax1, ax2]\n",
        "    for i in range(2):\n",
        "        axes[i].get_xaxis().set_visible(False)\n",
        "        axes[i].text(0.02, 0.8, \"%s\" %(method_names[i]),\n",
        "            verticalalignment='center', horizontalalignment='left',\n",
        "            transform=axes[i].transAxes, fontsize=25)\n",
        "\n",
        "    fig.set_size_inches(16, 6)\n",
        "    plt.tight_layout(w_pad=1)\n",
        "    plt.show()"
      ]
    },
    {
      "cell_type": "markdown",
      "metadata": {
        "id": "Od_bDHYG9Jda"
      },
      "source": [
        "## 6. Final Graphing"
      ]
    },
    {
      "cell_type": "markdown",
      "metadata": {
        "id": "YdV-TK8P9NS6"
      },
      "source": [
        "This was code we added to utilize the ASAP API and produce graphs with the smoothed sentiment data."
      ]
    },
    {
      "cell_type": "code",
      "execution_count": 24,
      "metadata": {
        "id": "rptfg467CM1j"
      },
      "outputs": [],
      "source": [
        "#https://matplotlib.org/stable/gallery/subplots_axes_and_figures/two_scales.html\n",
        "\n",
        "# Plot time series of two different sets of data\n",
        "def plot_multiple(dataToSmooth, dataToCompare, window_size, slide_size):\n",
        "    temp = SMA(dataToSmooth, slide_size, slide_size)\n",
        "    smoothed = SMA(temp, window_size, 1)\n",
        "    smoothed_range = range(int(window_size/2), int(window_size/2) + len(smoothed))\n",
        "    \n",
        "    # print(smoothed_range)\n",
        "\n",
        "    fig, ax1 = plt.subplots()\n",
        "\n",
        "    color1 = 'tab:red'\n",
        "    ax1.set_xlabel('Date')\n",
        "    ax1.set_ylabel('Sentiment', color=color1)\n",
        "    ax1.plot(smoothed_range, smoothed, color=color1, linestyle='-', linewidth=1.5)\n",
        "    ax1.tick_params(axis='y', labelcolor=color1)\n",
        "\n",
        "    ax2 = ax1.twinx()  # instantiate a second axes that shares the same x-axis\n",
        "\n",
        "    color2 = 'tab:blue'\n",
        "    ax2.set_ylabel('Stock Price', color=color2)  # we already handled the x-label with ax1\n",
        "    ax2.plot(dataToCompare, color=color2, linestyle='-', linewidth=1.5)\n",
        "    ax2.tick_params(axis='y', labelcolor=color2)\n",
        "\n",
        "    # for i in []:\n",
        "    #   plt.axvline(i, color='black')\n",
        "\n",
        "    fig.tight_layout(w_pad=1)  # otherwise the right y-label is slightly clipped\n",
        "    fig.set_size_inches(16, 6)\n",
        "    plt.show()"
      ]
    },
    {
      "cell_type": "code",
      "execution_count": 25,
      "metadata": {
        "id": "ctvgzxXHJc5Y"
      },
      "outputs": [],
      "source": [
        "def sentimentVsFinance(sentiment_input_file, finance_input_file, normalize_finance=False):\n",
        "  # load data\n",
        "  sentiment_data = load_csv(sentiment_input_file)\n",
        "  sentiment_data_int = [int(a) for a in sentiment_data]\n",
        "  finance_data = load_csv(finance_input_file)\n",
        "  # normalize stock prices\n",
        "  if normalize_finance == True:\n",
        "    finance_data = [np.log(x) for x in finance_data]\n",
        "  # graph data\n",
        "  window_size, slide_size = smooth_ASAP(sentiment_data_int, resolution=1920)\n",
        "  # print(\"Window Size: \", window_size)\n",
        "  plot_multiple(sentiment_data, finance_data, window_size, slide_size)"
      ]
    },
    {
      "cell_type": "markdown",
      "metadata": {
        "id": "HiYoxv1iN0-O"
      },
      "source": [
        "# Driver Code"
      ]
    },
    {
      "cell_type": "markdown",
      "metadata": {
        "id": "wrGSJmHK964l"
      },
      "source": [
        "#### Post Sentiment"
      ]
    },
    {
      "cell_type": "code",
      "execution_count": 26,
      "metadata": {
        "id": "J5eej1tPPLKK"
      },
      "outputs": [
        {
          "name": "stdout",
          "output_type": "stream",
          "text": [
            "WARNING:pmaw.PushshiftAPIBase:Not all PushShift shards are active. Query results may be incomplete.\n",
            "INFO:pmaw.PushshiftAPIBase:Total:: Success Rate: 100.00% - Requests: 10 - Batches: 1 - Items Remaining: 0\n"
          ]
        }
      ],
      "source": [
        "# Get reddit data\n",
        "raw_reddit_posts_df = getRedditData('Disney', 'raw_disney_posts.csv', is_posts=True, content_limit=1000)"
      ]
    },
    {
      "cell_type": "code",
      "execution_count": 27,
      "metadata": {
        "id": "Ckqq_sqgSgXQ"
      },
      "outputs": [
        {
          "name": "stdout",
          "output_type": "stream",
          "text": [
            "INFO:numexpr.utils:Note: NumExpr detected 10 cores but \"NUMEXPR_MAX_THREADS\" not set, so enforcing safe limit of 8.\n",
            "INFO:numexpr.utils:NumExpr defaulting to 8 threads.\n",
            "[*********************100%***********************]  1 of 1 completed\n"
          ]
        }
      ],
      "source": [
        "# Get stock data\n",
        "raw_finance_df = getFinanceData('DIS', 'raw_finance.csv', '2000-01-01', '2021-11-15')"
      ]
    },
    {
      "cell_type": "code",
      "execution_count": 28,
      "metadata": {
        "id": "TSGNZun9Shep"
      },
      "outputs": [
        {
          "name": "stderr",
          "output_type": "stream",
          "text": [
            "100%|██████████| 703/703 [00:00<00:00, 11024.52it/s]\n"
          ]
        }
      ],
      "source": [
        "# Clean reddit data\n",
        "cleaned_reddit_posts_df = cleanRedditPosts('', 'cleaned_disney_posts.csv', raw_reddit_posts_df)"
      ]
    },
    {
      "cell_type": "code",
      "execution_count": 29,
      "metadata": {
        "id": "ka-tgC5PSikQ"
      },
      "outputs": [
        {
          "name": "stderr",
          "output_type": "stream",
          "text": [
            "  0%|          | 0/703 [00:00<?, ?it/s]/Users/keeks/opt/anaconda3/lib/python3.8/site-packages/pandas/core/indexing.py:670: SettingWithCopyWarning: \n",
            "A value is trying to be set on a copy of a slice from a DataFrame\n",
            "\n",
            "See the caveats in the documentation: https://pandas.pydata.org/pandas-docs/stable/user_guide/indexing.html#returning-a-view-versus-a-copy\n",
            "  iloc._setitem_with_indexer(indexer, value)\n",
            "100%|██████████| 703/703 [00:20<00:00, 34.28it/s]\n"
          ]
        }
      ],
      "source": [
        "# Perform sentiment analysis on reddit data\n",
        "reddit_posts_and_sentiment_df = getSentiment('', 'disney_posts_w_sentiment.csv', True, cleaned_reddit_posts_df)"
      ]
    },
    {
      "cell_type": "code",
      "execution_count": 34,
      "metadata": {
        "id": "LmXzzCMlSj0p"
      },
      "outputs": [],
      "source": [
        "# Filter reddit data\n",
        "reddit_sentiment_df = getDateAndSentiment('', 'disney_sentiment.csv', reddit_posts_and_sentiment_df)"
      ]
    },
    {
      "cell_type": "code",
      "execution_count": 35,
      "metadata": {
        "id": "Iz6VOS3xSlXv"
      },
      "outputs": [],
      "source": [
        "# Get graphable data files\n",
        "graphable_sentiment, graphable_finance = getUsableData('', '', 'graphable_sentiment.csv', 'graphable_finance.csv', reddit_sentiment_df, raw_finance_df)"
      ]
    },
    {
      "cell_type": "code",
      "execution_count": 36,
      "metadata": {
        "id": "NWZOLK8dSmgU"
      },
      "outputs": [
        {
          "name": "stderr",
          "output_type": "stream",
          "text": [
            "/var/folders/db/6lkxg6fn7219f1vx45rkdbjm0000gn/T/ipykernel_5631/1146600579.py:41: RuntimeWarning: invalid value encountered in true_divide\n",
            "  self.correlations = R_t[:max_lag].real / R_t[0].real\n"
          ]
        },
        {
          "data": {
            "image/png": "[encoded data removed]",
            "text/plain": [
              "<Figure size 1152x432 with 2 Axes>"
            ]
          },
          "metadata": {
            "needs_background": "light"
          },
          "output_type": "display_data"
        }
      ],
      "source": [
        "# Graph data\n",
        "sentimentVsFinance('graphable_sentiment.csv', 'graphable_finance.csv')"
      ]
    },
    {
      "cell_type": "markdown",
      "metadata": {
        "id": "37R_OaBY9a3_"
      },
      "source": [
        "#### Comment Sentiment"
      ]
    },
    {
      "cell_type": "code",
      "execution_count": 44,
      "metadata": {
        "id": "RX_KmlncwEH9"
      },
      "outputs": [
        {
          "name": "stdout",
          "output_type": "stream",
          "text": [
            "WARNING:pmaw.PushshiftAPIBase:Not all PushShift shards are active. Query results may be incomplete.\n",
            "INFO:pmaw.PushshiftAPIBase:Total:: Success Rate: 100.00% - Requests: 10 - Batches: 1 - Items Remaining: 0\n",
            "[*********************100%***********************]  1 of 1 completed\n"
          ]
        },
        {
          "name": "stderr",
          "output_type": "stream",
          "text": [
            "100%|██████████| 741/741 [00:00<00:00, 12784.93it/s]\n",
            "  0%|          | 0/741 [00:00<?, ?it/s]/Users/keeks/opt/anaconda3/lib/python3.8/site-packages/pandas/core/indexing.py:670: SettingWithCopyWarning: \n",
            "A value is trying to be set on a copy of a slice from a DataFrame\n",
            "\n",
            "See the caveats in the documentation: https://pandas.pydata.org/pandas-docs/stable/user_guide/indexing.html#returning-a-view-versus-a-copy\n",
            "  iloc._setitem_with_indexer(indexer, value)\n",
            "100%|██████████| 741/741 [01:52<00:00,  6.59it/s]\n"
          ]
        },
        {
          "ename": "AttributeError",
          "evalue": "'NoneType' object has no attribute 'copy'",
          "output_type": "error",
          "traceback": [
            "\u001b[0;31m---------------------------------------------------------------------------\u001b[0m",
            "\u001b[0;31mAttributeError\u001b[0m                            Traceback (most recent call last)",
            "\u001b[0;32m/var/folders/db/6lkxg6fn7219f1vx45rkdbjm0000gn/T/ipykernel_5631/2387034368.py\u001b[0m in \u001b[0;36m<module>\u001b[0;34m\u001b[0m\n\u001b[1;32m      4\u001b[0m \u001b[0mcleaned_reddit_comments_df\u001b[0m \u001b[0;34m=\u001b[0m \u001b[0mcleanRedditComments\u001b[0m\u001b[0;34m(\u001b[0m\u001b[0;34m''\u001b[0m\u001b[0;34m,\u001b[0m \u001b[0;34m'cleaned_disney_comments.csv'\u001b[0m\u001b[0;34m,\u001b[0m \u001b[0mraw_reddit_comments_df\u001b[0m\u001b[0;34m)\u001b[0m\u001b[0;34m\u001b[0m\u001b[0;34m\u001b[0m\u001b[0m\n\u001b[1;32m      5\u001b[0m \u001b[0mreddit_comments_and_sentiment_df\u001b[0m \u001b[0;34m=\u001b[0m \u001b[0mgetSentiment\u001b[0m\u001b[0;34m(\u001b[0m\u001b[0;34m''\u001b[0m\u001b[0;34m,\u001b[0m \u001b[0;34m'disney_comments_w_sentiment.csv'\u001b[0m\u001b[0;34m,\u001b[0m \u001b[0;32mFalse\u001b[0m\u001b[0;34m,\u001b[0m \u001b[0mcleaned_reddit_comments_df\u001b[0m\u001b[0;34m)\u001b[0m\u001b[0;34m\u001b[0m\u001b[0;34m\u001b[0m\u001b[0m\n\u001b[0;32m----> 6\u001b[0;31m \u001b[0mreddit_sentiment_df\u001b[0m \u001b[0;34m=\u001b[0m \u001b[0mgetDateAndSentiment\u001b[0m\u001b[0;34m(\u001b[0m\u001b[0;34m'disney_comments_w_sentiment.csv'\u001b[0m\u001b[0;34m,\u001b[0m \u001b[0;34m'disney_sentiment.csv'\u001b[0m\u001b[0;34m)\u001b[0m\u001b[0;34m\u001b[0m\u001b[0;34m\u001b[0m\u001b[0m\n\u001b[0m\u001b[1;32m      7\u001b[0m \u001b[0mgraphable_sentiment\u001b[0m\u001b[0;34m,\u001b[0m \u001b[0mgraphable_finance\u001b[0m \u001b[0;34m=\u001b[0m \u001b[0mgetUsableData\u001b[0m\u001b[0;34m(\u001b[0m\u001b[0;34m''\u001b[0m\u001b[0;34m,\u001b[0m \u001b[0;34m''\u001b[0m\u001b[0;34m,\u001b[0m \u001b[0;34m'graphable_sentiment.csv'\u001b[0m\u001b[0;34m,\u001b[0m \u001b[0;34m'graphable_finance.csv'\u001b[0m\u001b[0;34m,\u001b[0m \u001b[0mreddit_sentiment_df\u001b[0m\u001b[0;34m,\u001b[0m \u001b[0mraw_finance_df\u001b[0m\u001b[0;34m)\u001b[0m\u001b[0;34m\u001b[0m\u001b[0;34m\u001b[0m\u001b[0m\n\u001b[1;32m      8\u001b[0m \u001b[0msentimentVsFinance\u001b[0m\u001b[0;34m(\u001b[0m\u001b[0;34m'graphable_sentiment.csv'\u001b[0m\u001b[0;34m,\u001b[0m \u001b[0;34m'graphable_finance.csv'\u001b[0m\u001b[0;34m)\u001b[0m\u001b[0;34m\u001b[0m\u001b[0;34m\u001b[0m\u001b[0m\n",
            "\u001b[0;32m/var/folders/db/6lkxg6fn7219f1vx45rkdbjm0000gn/T/ipykernel_5631/1865163445.py\u001b[0m in \u001b[0;36mgetDateAndSentiment\u001b[0;34m(input_file, output_file, input_df)\u001b[0m\n\u001b[1;32m      8\u001b[0m       \u001b[0mraw_df\u001b[0m \u001b[0;34m=\u001b[0m \u001b[0mpd\u001b[0m\u001b[0;34m.\u001b[0m\u001b[0mread_csv\u001b[0m\u001b[0;34m(\u001b[0m\u001b[0minput_file\u001b[0m\u001b[0;34m)\u001b[0m\u001b[0;34m\u001b[0m\u001b[0;34m\u001b[0m\u001b[0m\n\u001b[1;32m      9\u001b[0m   \u001b[0;32mfinally\u001b[0m\u001b[0;34m:\u001b[0m\u001b[0;34m\u001b[0m\u001b[0;34m\u001b[0m\u001b[0m\n\u001b[0;32m---> 10\u001b[0;31m     \u001b[0mraw_df\u001b[0m \u001b[0;34m=\u001b[0m \u001b[0minput_df\u001b[0m\u001b[0;34m.\u001b[0m\u001b[0mcopy\u001b[0m\u001b[0;34m(\u001b[0m\u001b[0;34m)\u001b[0m\u001b[0;34m\u001b[0m\u001b[0;34m\u001b[0m\u001b[0m\n\u001b[0m\u001b[1;32m     11\u001b[0m     \u001b[0mraw_df\u001b[0m\u001b[0;34m.\u001b[0m\u001b[0mreset_index\u001b[0m\u001b[0;34m(\u001b[0m\u001b[0mdrop\u001b[0m\u001b[0;34m=\u001b[0m\u001b[0;32mTrue\u001b[0m\u001b[0;34m,\u001b[0m \u001b[0minplace\u001b[0m\u001b[0;34m=\u001b[0m\u001b[0;32mTrue\u001b[0m\u001b[0;34m)\u001b[0m\u001b[0;34m\u001b[0m\u001b[0;34m\u001b[0m\u001b[0m\n\u001b[1;32m     12\u001b[0m   \u001b[0;31m# create new df with just dates and sentiment\u001b[0m\u001b[0;34m\u001b[0m\u001b[0;34m\u001b[0m\u001b[0;34m\u001b[0m\u001b[0m\n",
            "\u001b[0;31mAttributeError\u001b[0m: 'NoneType' object has no attribute 'copy'"
          ]
        }
      ],
      "source": [
        "# This does the same as the above cells, but for comments instead of posts\n",
        "raw_reddit_comments_df = getRedditData('Disney', 'raw_disney_comments.csv', is_posts=False, content_limit=1000)\n",
        "raw_finance_df = getFinanceData('DIS', 'raw_finance.csv', '2000-01-01', '2021-11-15')\n",
        "cleaned_reddit_comments_df = cleanRedditComments('', 'cleaned_disney_comments.csv', raw_reddit_comments_df)\n",
        "reddit_comments_and_sentiment_df = getSentiment('', 'disney_comments_w_sentiment.csv', False, cleaned_reddit_comments_df)\n",
        "reddit_sentiment_df = getDateAndSentiment('disney_comments_w_sentiment.csv', 'disney_sentiment.csv')\n",
        "graphable_sentiment, graphable_finance = getUsableData('', '', 'graphable_sentiment.csv', 'graphable_finance.csv', reddit_sentiment_df, raw_finance_df)\n",
        "sentimentVsFinance('graphable_sentiment.csv', 'graphable_finance.csv')\n",
        "sentimentVsFinance('graphable_sentiment.csv', 'graphable_finance.csv', True)"
      ]
    }
  ],
  "metadata": {
    "colab": {
      "collapsed_sections": [
        "ya8nqyNONyy6",
        "hEPlj1t8Nuom",
        "EkYEqIbM-nRR",
        "QM9nmckcD8Rr",
        "tv3jHh_o-d-9",
        "RQ4QqgOtD-b8",
        "qIPcrO9sve8l",
        "mTihe1gR82d_",
        "Od_bDHYG9Jda",
        "HiYoxv1iN0-O",
        "wrGSJmHK964l",
        "37R_OaBY9a3_"
      ],
      "name": "Reddit_Sentiment_vs_Stock_API.ipynb",
      "provenance": []
    },
    "kernelspec": {
      "display_name": "Python 3",
      "language": "python",
      "name": "python3"
    },
    "language_info": {
      "codemirror_mode": {
        "name": "ipython",
        "version": 3
      },
      "file_extension": ".py",
      "mimetype": "text/x-python",
      "name": "python",
      "nbconvert_exporter": "python",
      "pygments_lexer": "ipython3",
      "version": "3.8.8"
    }
  },
  "nbformat": 4,
  "nbformat_minor": 0
}
