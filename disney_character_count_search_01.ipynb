{
 "cells": [
  {
   "cell_type": "markdown",
   "id": "89f0d88f",
   "metadata": {},
   "source": [
    "# Returns: Pandas df : ['Character', 'MentionsCount']\n",
    "## Original Data: 500k r/Disney comments"
   ]
  },
  {
   "cell_type": "code",
   "execution_count": 1,
   "id": "4c052df6",
   "metadata": {},
   "outputs": [],
   "source": [
    "import pandas as pd"
   ]
  },
  {
   "cell_type": "markdown",
   "id": "2a6f4666",
   "metadata": {},
   "source": [
    "## Enter your characters"
   ]
  },
  {
   "cell_type": "code",
   "execution_count": 2,
   "id": "05730582",
   "metadata": {},
   "outputs": [],
   "source": [
    "character_list = ['donald duck', \n",
    "                  'mickey mouse', \n",
    "                  \"ariel\", \"tiana\", \n",
    "                  \"elsa\", \"simba\",\n",
    "                  \"belle\", \"mulan\",\n",
    "                  \"aladdin\", \"goofy\",\n",
    "                  \"cruella de vil\"]"
   ]
  },
  {
   "cell_type": "markdown",
   "id": "02b8eb64",
   "metadata": {},
   "source": [
    "## Enter your data file address"
   ]
  },
  {
   "cell_type": "code",
   "execution_count": 3,
   "id": "c7d5aa16",
   "metadata": {},
   "outputs": [
    {
     "name": "stderr",
     "output_type": "stream",
     "text": [
      "/Users/keeks/opt/anaconda3/lib/python3.8/site-packages/IPython/core/interactiveshell.py:3444: DtypeWarning: Columns (0,3,5,6,7,8,9,11,12,13,18,20,22,23,25,28,29,34,36,37,38,39,40,41,45,46,47,49,51,58,59) have mixed types.Specify dtype option on import or set low_memory=False.\n",
      "  exec(code_obj, self.user_global_ns, self.user_ns)\n"
     ]
    }
   ],
   "source": [
    "data = pd.read_csv(\"./sampleData/disney_comments_w_sentiment.csv\")"
   ]
  },
  {
   "cell_type": "code",
   "execution_count": 4,
   "id": "21b9f316",
   "metadata": {},
   "outputs": [
    {
     "data": {
      "text/html": [
       "<div>\n",
       "<style scoped>\n",
       "    .dataframe tbody tr th:only-of-type {\n",
       "        vertical-align: middle;\n",
       "    }\n",
       "\n",
       "    .dataframe tbody tr th {\n",
       "        vertical-align: top;\n",
       "    }\n",
       "\n",
       "    .dataframe thead th {\n",
       "        text-align: right;\n",
       "    }\n",
       "</style>\n",
       "<table border=\"1\" class=\"dataframe\">\n",
       "  <thead>\n",
       "    <tr style=\"text-align: right;\">\n",
       "      <th></th>\n",
       "      <th>Character</th>\n",
       "      <th>Count</th>\n",
       "    </tr>\n",
       "  </thead>\n",
       "  <tbody>\n",
       "    <tr>\n",
       "      <th>0</th>\n",
       "      <td>donald duck</td>\n",
       "      <td>179</td>\n",
       "    </tr>\n",
       "    <tr>\n",
       "      <th>1</th>\n",
       "      <td>mickey mouse</td>\n",
       "      <td>504</td>\n",
       "    </tr>\n",
       "    <tr>\n",
       "      <th>2</th>\n",
       "      <td>ariel</td>\n",
       "      <td>1383</td>\n",
       "    </tr>\n",
       "    <tr>\n",
       "      <th>3</th>\n",
       "      <td>tiana</td>\n",
       "      <td>455</td>\n",
       "    </tr>\n",
       "    <tr>\n",
       "      <th>4</th>\n",
       "      <td>elsa</td>\n",
       "      <td>1476</td>\n",
       "    </tr>\n",
       "    <tr>\n",
       "      <th>5</th>\n",
       "      <td>simba</td>\n",
       "      <td>382</td>\n",
       "    </tr>\n",
       "    <tr>\n",
       "      <th>6</th>\n",
       "      <td>belle</td>\n",
       "      <td>1270</td>\n",
       "    </tr>\n",
       "    <tr>\n",
       "      <th>7</th>\n",
       "      <td>mulan</td>\n",
       "      <td>1530</td>\n",
       "    </tr>\n",
       "    <tr>\n",
       "      <th>8</th>\n",
       "      <td>aladdin</td>\n",
       "      <td>1564</td>\n",
       "    </tr>\n",
       "    <tr>\n",
       "      <th>9</th>\n",
       "      <td>goofy</td>\n",
       "      <td>994</td>\n",
       "    </tr>\n",
       "    <tr>\n",
       "      <th>10</th>\n",
       "      <td>cruella de vil</td>\n",
       "      <td>36</td>\n",
       "    </tr>\n",
       "  </tbody>\n",
       "</table>\n",
       "</div>"
      ],
      "text/plain": [
       "         Character  Count\n",
       "0      donald duck    179\n",
       "1     mickey mouse    504\n",
       "2            ariel   1383\n",
       "3            tiana    455\n",
       "4             elsa   1476\n",
       "5            simba    382\n",
       "6            belle   1270\n",
       "7            mulan   1530\n",
       "8          aladdin   1564\n",
       "9            goofy    994\n",
       "10  cruella de vil     36"
      ]
     },
     "execution_count": 4,
     "metadata": {},
     "output_type": "execute_result"
    }
   ],
   "source": [
    "#Returns number of times (character: str) is mentioned in list of comments\n",
    "def characters_mentions_count(character_list, df):\n",
    "\n",
    "    def character_mentions_count(character, df):\n",
    "        df['body'] = df['body'].str.lower()\n",
    "        df = df.dropna(subset=['body'])\n",
    "        selected_df = pd.DataFrame(df[df['body'].str.contains(character)].body)\n",
    "        return len(selected_df)\n",
    "    \n",
    "    list1 = []\n",
    "    for item in character_list:\n",
    "        count = character_mentions_count(item, data)\n",
    "        list1.append((item, count))\n",
    "    \n",
    "    return pd.DataFrame(list1, columns =['Character', 'Count'])\n",
    "    \n",
    "    \n",
    "df = characters_mentions_count(character_list, data)\n",
    "df"
   ]
  },
  {
   "cell_type": "markdown",
   "id": "49c2f432",
   "metadata": {},
   "source": [
    "## Enter your output file address"
   ]
  },
  {
   "cell_type": "code",
   "execution_count": 5,
   "id": "3bdffa09",
   "metadata": {},
   "outputs": [],
   "source": [
    "df.to_csv(\"./sampleData/disney_character_count.csv\", header=True, index=False, columns=list(df.axes[1]))"
   ]
  }
 ],
 "metadata": {
  "kernelspec": {
   "display_name": "Python 3",
   "language": "python",
   "name": "python3"
  },
  "language_info": {
   "codemirror_mode": {
    "name": "ipython",
    "version": 3
   },
   "file_extension": ".py",
   "mimetype": "text/x-python",
   "name": "python",
   "nbconvert_exporter": "python",
   "pygments_lexer": "ipython3",
   "version": "3.8.12"
  }
 },
 "nbformat": 4,
 "nbformat_minor": 5
}
