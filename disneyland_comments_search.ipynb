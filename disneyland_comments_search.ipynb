{
 "cells": [
  {
   "cell_type": "code",
   "execution_count": 1,
   "id": "d56ef2ac",
   "metadata": {},
   "outputs": [],
   "source": [
    "import pandas as pd"
   ]
  },
  {
   "cell_type": "code",
   "execution_count": 11,
   "id": "3bd12e11",
   "metadata": {},
   "outputs": [
    {
     "name": "stderr",
     "output_type": "stream",
     "text": [
      "/home/clark/anaconda3/lib/python3.8/site-packages/IPython/core/interactiveshell.py:3165: DtypeWarning: Columns (0,3,5,6,8,9,11,12,13,20,22,23,28,34,37,38,39,40,41,42,46,47,48,51,58,59) have mixed types.Specify dtype option on import or set low_memory=False.\n",
      "  has_raised = await self.run_ast_nodes(code_ast.body, cell_name,\n"
     ]
    }
   ],
   "source": [
    "df = pd.read_csv(\"./sampleData/disneyland_comments_cleaned_wDates.csv\")"
   ]
  },
  {
   "cell_type": "code",
   "execution_count": 12,
   "id": "4f432c1e",
   "metadata": {},
   "outputs": [],
   "source": [
    "df['body'] = df['body'].str.lower()"
   ]
  },
  {
   "cell_type": "code",
   "execution_count": 14,
   "id": "49c5bddc",
   "metadata": {},
   "outputs": [
    {
     "data": {
      "text/plain": [
       "0    there’s some strong rumors (and idk how real t...\n",
       "1    yes i miss disneyland very much.  i look at pi...\n",
       "2    thank you for your kind response and for your ...\n",
       "3    wow i didn’t know about soundsofdisneyland.com...\n",
       "4    i have some, but not a lot. i wish i had more!...\n",
       "5    i'm trying to hold back my liberal tears but i...\n",
       "6                            you're gonna h'yuck it up\n",
       "7    notice how no one has parked neared there. che...\n",
       "8    i worked the structure as a custodian. this pi...\n",
       "9                              i like that idea too :)\n",
       "Name: body, dtype: object"
      ]
     },
     "execution_count": 14,
     "metadata": {},
     "output_type": "execute_result"
    }
   ],
   "source": [
    "df.body.head(10)"
   ]
  },
  {
   "cell_type": "code",
   "execution_count": 15,
   "id": "841bd536",
   "metadata": {},
   "outputs": [
    {
     "data": {
      "text/html": [
       "<div>\n",
       "<style scoped>\n",
       "    .dataframe tbody tr th:only-of-type {\n",
       "        vertical-align: middle;\n",
       "    }\n",
       "\n",
       "    .dataframe tbody tr th {\n",
       "        vertical-align: top;\n",
       "    }\n",
       "\n",
       "    .dataframe thead th {\n",
       "        text-align: right;\n",
       "    }\n",
       "</style>\n",
       "<table border=\"1\" class=\"dataframe\">\n",
       "  <thead>\n",
       "    <tr style=\"text-align: right;\">\n",
       "      <th></th>\n",
       "      <th>body</th>\n",
       "    </tr>\n",
       "  </thead>\n",
       "  <tbody>\n",
       "    <tr>\n",
       "      <th>795</th>\n",
       "      <td>i don’t ride matterhorn because i don’t want t...</td>\n",
       "    </tr>\n",
       "    <tr>\n",
       "      <th>1071</th>\n",
       "      <td>is matterhorn still standing? it is halfway in...</td>\n",
       "    </tr>\n",
       "    <tr>\n",
       "      <th>1351</th>\n",
       "      <td>indy or matterhorn.</td>\n",
       "    </tr>\n",
       "    <tr>\n",
       "      <th>1382</th>\n",
       "      <td>plus, generally there’s a much shorter line be...</td>\n",
       "    </tr>\n",
       "    <tr>\n",
       "      <th>1400</th>\n",
       "      <td>matterhorn! with the fireworks going off. one ...</td>\n",
       "    </tr>\n",
       "    <tr>\n",
       "      <th>1834</th>\n",
       "      <td>just to make mention, those actually aren't th...</td>\n",
       "    </tr>\n",
       "    <tr>\n",
       "      <th>1847</th>\n",
       "      <td>it was such a thrill to see it after getting o...</td>\n",
       "    </tr>\n",
       "    <tr>\n",
       "      <th>1999</th>\n",
       "      <td>matterhorn or tea cups!</td>\n",
       "    </tr>\n",
       "    <tr>\n",
       "      <th>2006</th>\n",
       "      <td>love matterhorn at night</td>\n",
       "    </tr>\n",
       "    <tr>\n",
       "      <th>2151</th>\n",
       "      <td>why no matterhorn?</td>\n",
       "    </tr>\n",
       "    <tr>\n",
       "      <th>2286</th>\n",
       "      <td>turkey leg at edelweiss behind matterhorn</td>\n",
       "    </tr>\n",
       "    <tr>\n",
       "      <th>2366</th>\n",
       "      <td>then definitely skip the matterhorn and goofy'...</td>\n",
       "    </tr>\n",
       "    <tr>\n",
       "      <th>2559</th>\n",
       "      <td>great photo! matterhorn is my fav!</td>\n",
       "    </tr>\n",
       "    <tr>\n",
       "      <th>2862</th>\n",
       "      <td>i don’t get how that could be anyone’s favouri...</td>\n",
       "    </tr>\n",
       "    <tr>\n",
       "      <th>2866</th>\n",
       "      <td>you don’t get the picture...? it’s a flower wi...</td>\n",
       "    </tr>\n",
       "    <tr>\n",
       "      <th>2904</th>\n",
       "      <td>always a good gift! i also got that same matte...</td>\n",
       "    </tr>\n",
       "    <tr>\n",
       "      <th>3214</th>\n",
       "      <td>i barely get what this means and i don't know ...</td>\n",
       "    </tr>\n",
       "    <tr>\n",
       "      <th>3538</th>\n",
       "      <td>the entrance noises at the turnstiles always g...</td>\n",
       "    </tr>\n",
       "    <tr>\n",
       "      <th>3611</th>\n",
       "      <td>is there a basketball court in that matterhorn?</td>\n",
       "    </tr>\n",
       "    <tr>\n",
       "      <th>3657</th>\n",
       "      <td>matterhorn! i think because i have memories of...</td>\n",
       "    </tr>\n",
       "  </tbody>\n",
       "</table>\n",
       "</div>"
      ],
      "text/plain": [
       "                                                   body\n",
       "795   i don’t ride matterhorn because i don’t want t...\n",
       "1071  is matterhorn still standing? it is halfway in...\n",
       "1351                                indy or matterhorn.\n",
       "1382  plus, generally there’s a much shorter line be...\n",
       "1400  matterhorn! with the fireworks going off. one ...\n",
       "1834  just to make mention, those actually aren't th...\n",
       "1847  it was such a thrill to see it after getting o...\n",
       "1999                            matterhorn or tea cups!\n",
       "2006                           love matterhorn at night\n",
       "2151                                 why no matterhorn?\n",
       "2286          turkey leg at edelweiss behind matterhorn\n",
       "2366  then definitely skip the matterhorn and goofy'...\n",
       "2559                 great photo! matterhorn is my fav!\n",
       "2862  i don’t get how that could be anyone’s favouri...\n",
       "2866  you don’t get the picture...? it’s a flower wi...\n",
       "2904  always a good gift! i also got that same matte...\n",
       "3214  i barely get what this means and i don't know ...\n",
       "3538  the entrance noises at the turnstiles always g...\n",
       "3611    is there a basketball court in that matterhorn?\n",
       "3657  matterhorn! i think because i have memories of..."
      ]
     },
     "execution_count": 15,
     "metadata": {},
     "output_type": "execute_result"
    }
   ],
   "source": [
    "selected_df = pd.DataFrame(df[df['body'].str.contains('matterhorn')].body)\n",
    "selected_df.head(20)"
   ]
  }
 ],
 "metadata": {
  "kernelspec": {
   "display_name": "Python 3",
   "language": "python",
   "name": "python3"
  },
  "language_info": {
   "codemirror_mode": {
    "name": "ipython",
    "version": 3
   },
   "file_extension": ".py",
   "mimetype": "text/x-python",
   "name": "python",
   "nbconvert_exporter": "python",
   "pygments_lexer": "ipython3",
   "version": "3.8.8"
  }
 },
 "nbformat": 4,
 "nbformat_minor": 5
}
